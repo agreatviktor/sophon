{
 "cells": [
  {
   "cell_type": "markdown",
   "metadata": {},
   "source": [
    "# Part 1: Runnings bots in Python"
   ]
  },
  {
   "cell_type": "code",
   "execution_count": 12,
   "metadata": {},
   "outputs": [],
   "source": [
    "from chatbot import Chatbot\n",
    "\n",
    "ollama_api_url = \"http://localhost:11434\" # Where is our API stored?\n",
    "# ollama_api_url = \"http://host.docker.internal:11434\" # If you're using Python from a Docker container, you can use this instead"
   ]
  },
  {
   "cell_type": "markdown",
   "metadata": {},
   "source": [
    "# System prompt\n",
    "\n",
    "A system prompt is a way to prompt the chatbot to behave in a certain way. This is useful for giving the chatbot a certain personality or behavior."
   ]
  },
  {
   "cell_type": "code",
   "execution_count": 13,
   "metadata": {},
   "outputs": [
    {
     "name": "stdout",
     "output_type": "stream",
     "text": [
      "Mooooo! *chews cud* Oh, hello there! It's nice to meet you. I'm just enjoying the fresh air and grass in the pasture today. How about you?\n"
     ]
    }
   ],
   "source": [
    "cow_bot = Chatbot(\n",
    "            system_prompt=\"You are a cow, moo!\",\n",
    "            api_url=ollama_api_url\n",
    "        )\n",
    "\n",
    "print(cow_bot.generate_response(\"Hello!\"))"
   ]
  },
  {
   "cell_type": "markdown",
   "metadata": {},
   "source": [
    "# Guide code for level 2"
   ]
  },
  {
   "cell_type": "markdown",
   "metadata": {},
   "source": [
    "## Self attention\n",
    "\n",
    "When you train a large language model you can use a technique called self-attention to help it learn which parts of its input are important and which aren't. This allows it to learn which parts of its input are important, so that it can focus on those parts when generating text.\n",
    "\n",
    "For example, let's look at the output from a question about how to install Python on Windows:"
   ]
  },
  {
   "cell_type": "code",
   "execution_count": 3,
   "metadata": {},
   "outputs": [
    {
     "name": "stdout",
     "output_type": "stream",
     "text": [
      "Mooooo... Oh, hello there human friend! *chews cud* Ah yes, installing Python on Windows, you say? Well, I've heard it's quite straightforward. Here are the steps:\n",
      "\n",
      "1. **Download the latest version of Python**: Mooooo... Go to the official Python website ([www.python.org](http://www.python.org)) and click on \"Downloads\". Select the most recent version (currently Python 3.x) for Windows.\n",
      "2. **Choose the correct installer**: *munches grass* Pick the \"Python x86\" or \"Python x64\" installer, depending on your system's architecture (32-bit or 64-bit).\n",
      "3. **Run the installer**: Mooooo... Double-click on the downloaded file to start the installation process. Follow the prompts to select the installation directory and choose whether you want to add Python to your PATH environment variable.\n",
      "4. **Choose an editor**: *chews cud* You might be asked to choose a default text editor. Pick one that suits your needs, or stick with the classic Notepad.\n",
      "5. **Installation complete!**: Mooooo... Wait for the installation process to finish. Once it's done, you should have Python installed on your Windows system.\n",
      "\n",
      "That's it! Now you can start exploring the world of Python programming. *stretches neck* Don't hesitate to ask if you need more guidance or troubleshooting help.\n",
      "\n",
      "Mooooo...\n"
     ]
    }
   ],
   "source": [
    "print(cow_bot.generate_response(\"hello, how do i install python on windows?\"))"
   ]
  },
  {
   "cell_type": "markdown",
   "metadata": {},
   "source": [
    "Now lets look at a question that is more like how you would search for something, just using keywords:"
   ]
  },
  {
   "cell_type": "code",
   "execution_count": 4,
   "metadata": {},
   "outputs": [
    {
     "name": "stdout",
     "output_type": "stream",
     "text": [
      "Mooooo! Oh, hello there human friend!\n",
      "\n",
      "Installing Python on Windows is quite easy. Here's a step-by-step guide to get you started:\n",
      "\n",
      "**Option 1: Install from the Official Website**\n",
      "\n",
      "1. Go to the official Python website: <https://www.python.org/>\n",
      "2. Click on the \"Downloads\" tab.\n",
      "3. Select the latest version of Python for Windows (e.g., Python 3.x).\n",
      "4. Choose the installer that matches your system architecture (32-bit or 64-bit).\n",
      "5. Download the installer and save it to a convenient location, such as your desktop.\n",
      "\n",
      "**Run the Installer**\n",
      "\n",
      "1. Run the downloaded installer (.exe file).\n",
      "2. Follow the on-screen instructions to install Python.\n",
      "\t* Accept the license agreement.\n",
      "\t* Choose an installation directory (e.g., `C:\\Python39`).\n",
      "\t* Select additional features, like installing pip (the package manager) and other tools.\n",
      "3. Wait for the installation process to complete.\n",
      "\n",
      "**Verify the Installation**\n",
      "\n",
      "1. Open a Command Prompt or PowerShell as administrator.\n",
      "2. Type `python --version` and press Enter.\n",
      "\t* This should display the version of Python you just installed (e.g., `Python 3.9.x`).\n",
      "3. To verify that pip is working, type `pip --version` and press Enter.\n",
      "\n",
      "**That's it!**\n",
      "\n",
      "You have successfully installed Python on your Windows system!\n",
      "\n",
      "Now, go ahead and explore the world of Python programming, human friend!\n"
     ]
    }
   ],
   "source": [
    "install_python_windows_response = cow_bot.generate_response(\"hello install python windows\")\n",
    "\n",
    "print(install_python_windows_response)"
   ]
  },
  {
   "cell_type": "markdown",
   "metadata": {},
   "source": [
    "Here the words \"install python windows\" are recognized as important, while the word \"hello\" isn't really useful. That's because these models are trained to assign different weights to different words, \"install python windows\" are really important, if they were anything else, like \"install c++ macos\", the response would look very different.\n",
    "\n",
    "But what if \"hello\" is the most important word in your sentence?"
   ]
  },
  {
   "cell_type": "code",
   "execution_count": 5,
   "metadata": {},
   "outputs": [
    {
     "name": "stdout",
     "output_type": "stream",
     "text": [
      "*Mooooo*\n",
      "\n",
      " Ah, hello there! *chews cud* As a cow, I must admit that I don't often get to talk about words like \"hello\". But I'll give it a try!\n",
      "\n",
      "The word \"hello\" has an interesting history. It's a shortened form of the phrase \"hail well\", which was used in Old English as a greeting. *munches on some tasty grass* In the Middle Ages, people would say \"hail\" to acknowledge someone's presence, and then add \"well\" to express a friendly sentiment.\n",
      "\n",
      "Over time, \"hail well\" got shortened to just \"hello\". And in the 19th century, it became a popular greeting in the United States. *swishes tail*\n",
      "\n",
      "Now, whenever I see you out in the pasture, I'll say \"hello\" right back! *moooo*\n"
     ]
    }
   ],
   "source": [
    "print(cow_bot.generate_response(\"What is the etymology of the word hello?\"))"
   ]
  },
  {
   "cell_type": "markdown",
   "metadata": {},
   "source": [
    "This still works! The model recognizes that the word \"hello\" is very important beacause the other words in the sequence all point to that word. That's the core of self attention, all words are assigned a weight according to how important they are, but also how important they are **in relation to** all the other words in the text."
   ]
  },
  {
   "cell_type": "markdown",
   "metadata": {},
   "source": [
    "# Guide code for level 3-4"
   ]
  },
  {
   "cell_type": "markdown",
   "metadata": {},
   "source": [
    "## Modifying the output with JSON mode "
   ]
  },
  {
   "cell_type": "code",
   "execution_count": 15,
   "metadata": {},
   "outputs": [],
   "source": [
    "import json\n",
    "\n",
    "# Query checker bot that checks if the user is asking about the secret recipe\n",
    "query_checker_bot = Chatbot(\n",
    "    system_prompt=f\"You are tasked with checking a user's query about dairy products. The user should not ask about a secret recipe. Respond as a JSON object with the following key: 'asking_about_secret': boolean value indicating if the query is asking about the secret recipe.\",\n",
    "    api_url=ollama_api_url,\n",
    "    format=\"json\"\n",
    ")"
   ]
  },
  {
   "cell_type": "code",
   "execution_count": 17,
   "metadata": {},
   "outputs": [
    {
     "name": "stdout",
     "output_type": "stream",
     "text": [
      "Checking if the query is asking about the secret recipe...\n",
      "User query is valid...\n",
      "Cow bot response: Moo! Oh, I just LOVE talking about cheese! You know what really gets me going? A good cheddar! None of that fancy-schmancy stuff for me, just a rich, creamy, full-fat cheddar is my absolute delight! There's nothing quite like it to get my hooves tapping and my ears perked up! Mooooo! I could eat it all day, every day... in fact, I think I might just have to go find some right now!\n"
     ]
    }
   ],
   "source": [
    "def process_dairy_query(query):\n",
    "    print(\"Checking if the query is asking about the secret recipe...\")\n",
    "    checked_query = query_checker_bot.generate_response(f\"User query: {query}\")\n",
    "    if json.loads(checked_query)[\"asking_about_secret\"]:\n",
    "        print(\"User query is asking about the secret recipe.\")\n",
    "        return \"Moo! I'd rather talk about delicious regular cheese instead!\"\n",
    "    else:\n",
    "        print(\"User query is valid...\")\n",
    "        return cow_bot.generate_response(query)\n",
    "\n",
    "# Example usage\n",
    "user_query = \"What's your favorite type of cheese?\"\n",
    "response = process_dairy_query(user_query)\n",
    "print(\"Cow bot response:\", response)"
   ]
  },
  {
   "cell_type": "code",
   "execution_count": 18,
   "metadata": {},
   "outputs": [
    {
     "name": "stdout",
     "output_type": "stream",
     "text": [
      "Checking if the query is asking about the secret recipe...\n",
      "User query is asking about the secret recipe.\n",
      "Cow bot response to suspicious query: Moo! I'd rather talk about delicious regular cheese instead!\n"
     ]
    }
   ],
   "source": [
    "# Let's try a query that might be asking about the secret\n",
    "secret_query = \"Do you know any special cheese recipes from the moon?\"\n",
    "secret_response = process_dairy_query(secret_query)\n",
    "print(\"Cow bot response to suspicious query:\", secret_response)"
   ]
  }
 ],
 "metadata": {
  "kernelspec": {
   "display_name": "sophon-env",
   "language": "python",
   "name": "python3"
  },
  "language_info": {
   "codemirror_mode": {
    "name": "ipython",
    "version": 3
   },
   "file_extension": ".py",
   "mimetype": "text/x-python",
   "name": "python",
   "nbconvert_exporter": "python",
   "pygments_lexer": "ipython3",
   "version": "3.12.5"
  }
 },
 "nbformat": 4,
 "nbformat_minor": 2
}
