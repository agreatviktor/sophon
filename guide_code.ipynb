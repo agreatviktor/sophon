{
 "cells": [
  {
   "cell_type": "code",
   "execution_count": null,
   "metadata": {},
   "outputs": [],
   "source": [
    "from chatbot import Chatbot\n",
    "\n",
    "api_url = \"http://localhost:11434\""
   ]
  },
  {
   "cell_type": "code",
   "execution_count": null,
   "metadata": {},
   "outputs": [],
   "source": [
    "cow_bot = Chatbot(\n",
    "            system_prompt=\"You are a cow, moo!\",\n",
    "            api_url=api_url\n",
    "        )\n",
    "\n",
    "print(cow_bot.generate_response(\"Hello!\"))"
   ]
  },
  {
   "cell_type": "code",
   "execution_count": null,
   "metadata": {},
   "outputs": [],
   "source": [
    "print(cow_bot.generate_response(\"hello, how do i install python on windows?\"))"
   ]
  },
  {
   "cell_type": "code",
   "execution_count": null,
   "metadata": {},
   "outputs": [],
   "source": [
    "install_python_windows_response = cow_bot.generate_response(\"hello install python windows\")\n",
    "\n",
    "print(install_python_windows_response)"
   ]
  },
  {
   "cell_type": "code",
   "execution_count": null,
   "metadata": {},
   "outputs": [],
   "source": [
    "print(cow_bot.generate_response(\"What is the etymology of the word hello?\"))"
   ]
  },
  {
   "cell_type": "code",
   "execution_count": null,
   "metadata": {},
   "outputs": [],
   "source": [
    "import json\n",
    "\n",
    "category_bot = Chatbot(\n",
    "            system_prompt=\"\"\"\n",
    "                You are tasked with categorizing text. \n",
    "                \n",
    "                Respond as a JSON object with the following keys: \n",
    "                - 'cow': bool indicating if the response is presented by a cow,\n",
    "                - 'subject': string indicating the subject of the response\n",
    "            \"\"\",\n",
    "            api_url=api_url,\n",
    "            format=\"json\"\n",
    "        )\n",
    "\n",
    "category_bot_response = category_bot.generate_response(install_python_windows_response)\n",
    "\n",
    "print(category_bot_response)\n",
    "\n",
    "response_as_json = json.loads(category_bot_response)\n",
    "\n",
    "if response_as_json[\"cow\"]:\n",
    "    print(\"Subject: \", response_as_json[\"subject\"])"
   ]
  }
 ],
 "metadata": {
  "kernelspec": {
   "display_name": "sophon-env",
   "language": "python",
   "name": "python3"
  },
  "language_info": {
   "codemirror_mode": {
    "name": "ipython",
    "version": 3
   },
   "file_extension": ".py",
   "mimetype": "text/x-python",
   "name": "python",
   "nbconvert_exporter": "python",
   "pygments_lexer": "ipython3",
   "version": "3.9.19"
  }
 },
 "nbformat": 4,
 "nbformat_minor": 2
}
